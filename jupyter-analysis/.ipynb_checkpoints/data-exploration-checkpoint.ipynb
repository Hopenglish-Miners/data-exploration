{
 "cells": [
  {
   "cell_type": "code",
   "execution_count": 72,
   "metadata": {
    "collapsed": false
   },
   "outputs": [],
   "source": [
    "%matplotlib inline\n",
    "import numpy as np\n",
    "import pandas as pd\n",
    "import matplotlib.pyplot as plt\n",
    "import plotly.plotly as plotl\n",
    "import plotly.graph_objs as go\n",
    "import plotly.tools as tls\n",
    "plt.style.use('ggplot')  "
   ]
  },
  {
   "cell_type": "code",
   "execution_count": 87,
   "metadata": {
    "collapsed": false
   },
   "outputs": [
    {
     "data": {
      "text/html": [
       "<iframe id=\"igraph\" scrolling=\"no\" style=\"border:none;\" seamless=\"seamless\" src=\"https://plot.ly/~nweat/2.embed\" height=\"525px\" width=\"100%\"></iframe>"
      ],
      "text/plain": [
       "<plotly.tools.PlotlyDisplay object>"
      ]
     },
     "execution_count": 87,
     "metadata": {},
     "output_type": "execute_result"
    }
   ],
   "source": [
    "def vocabSavedRange(dl):\n",
    "\tif dl == 0: return '0'\n",
    "\telif 0 < dl < 1: return '0-1'\n",
    "\telif 1 <= dl <= 10: return '1-10'\n",
    "\telif 10 < dl <= 20: return '11-20'\n",
    "\telif 20 < dl <= 40: return '21-40'\n",
    "\telif 40 < dl <= 60: return '41-60'\n",
    "\telif 60 < dl <= 80: return '61-80'\n",
    "\telif 80 < dl <= 100: return '81-100'\n",
    "\telif dl > 100: return '> 100'\n",
    "\telse: return 'None'\n",
    "\n",
    "\n",
    "def numOfUsersbyAvgDictionarySize(preppedDataWithoutSection):\n",
    "\t\"\"\"\n",
    "\tMore than half of students save an avg of 1-20% of words in their dictionaries\n",
    "\tAn avg. video vocab count is 239, so between 10 to 25 words is saved from video on average by most users\n",
    "\t\"\"\"\n",
    "\tdf = pd.read_json(preppedDataWithoutSection) #read_json\n",
    "\tdf['avg_words_saved_perc'] = df['avg_words_saved'] * 100\n",
    "\tdf = df.groupby(['user']).mean() #avg overall words saved by user, get overall avg of individual averages per video\n",
    "\tdf['user_group'] = df['avg_words_saved_perc'].map(vocabSavedRange)\n",
    "\tresults = df.groupby(['user_group']).size()\n",
    "\treturn results\n",
    "\n",
    "raw_data = numOfUsersbyAvgDictionarySize('prepped-wo-section.json')\n",
    "final = go.Bar(\n",
    "            x=raw_data.values,\n",
    "            y=raw_data.index,\n",
    "            orientation = 'h'\n",
    ")\n",
    "data = [final]\n",
    "layout = go.Layout(\n",
    "    title='Exploring students dictionary usage',\n",
    "    xaxis=dict(\n",
    "        title='# of users',\n",
    "        titlefont=dict(\n",
    "            family='Courier New, monospace',\n",
    "            size=18,\n",
    "            color='#7f7f7f'\n",
    "        )\n",
    "    ),\n",
    "    yaxis=dict(\n",
    "        title='Avg. % of words saved overall',\n",
    "        titlefont=dict(\n",
    "            family='Courier New, monospace',\n",
    "            size=18,\n",
    "            color='#7f7f7f'\n",
    "        )\n",
    "    )\n",
    ")\n",
    "fig = go.Figure(data=data, layout=layout)\n",
    "plotl.iplot(fig, filename='numOfUsersbyAvgDictionarySize')"
   ]
  },
  {
   "cell_type": "code",
   "execution_count": 90,
   "metadata": {
    "collapsed": false
   },
   "outputs": [
    {
     "data": {
      "text/html": [
       "<iframe id=\"igraph\" scrolling=\"no\" style=\"border:none;\" seamless=\"seamless\" src=\"https://plot.ly/~nweat/4.embed\" height=\"525px\" width=\"100%\"></iframe>"
      ],
      "text/plain": [
       "<plotly.tools.PlotlyDisplay object>"
      ]
     },
     "execution_count": 90,
     "metadata": {},
     "output_type": "execute_result"
    }
   ],
   "source": [
    "def listenScoreRange(dl):\n",
    "\tif dl < -1: return '<-1'\n",
    "\telif dl == -1: return 'Incomplete'\n",
    "\telif dl == 0: return '0'\n",
    "\telif 0 < dl <= 1: return '0-1'\n",
    "\telif 1 < dl <= 49: return '2-49'\n",
    "\telif 49 < dl <= 59: return '50-59'\n",
    "\telif 59 < dl <= 62: return '60-62'\n",
    "\telif 62 < dl <= 66: return '63-66'\n",
    "\telif 66 < dl <= 69: return '67-69'\n",
    "\telif 69 < dl <= 72: return '70-72'\n",
    "\telif 72 < dl <= 76: return '73-76'\n",
    "\telif 76 < dl <= 79: return '77-79'\n",
    "\telif 79 < dl <= 84: return '80-84'\n",
    "\telif 84 < dl <= 89: return '85-89'\n",
    "\telif 89 < dl <= 100: return '90-100'\n",
    "\telif dl > 100: return '>100'\n",
    "\telse: return 'None'\n",
    "\n",
    "def numOfUsersByScoreRange(preppedDataWithoutSection):\n",
    "\t\"\"\"\n",
    "\te.g. users and their score range\n",
    "\t\"\"\"\n",
    "\tdf = pd.read_json(preppedDataWithoutSection) #read_json in jupyter\n",
    "\tdf = df.groupby(['user']).mean()\n",
    "\tdf['avg_score_range'] = df['avg_score'].map(listenScoreRange)\n",
    "\tresults = df.groupby(['avg_score_range']).size()\n",
    "\treturn results #df[['avg_score', 'avg_score_range']]\n",
    "\n",
    "raw_data2 = numOfUsersByScoreRange('prepped-wo-section.json')\n",
    "final = go.Bar(\n",
    "            x=raw_data2.values,\n",
    "            y=raw_data2.index,\n",
    "            orientation = 'h'\n",
    ")\n",
    "data = [final]\n",
    "layout = go.Layout(\n",
    "    title='Exploring students performance',\n",
    "    xaxis=dict(\n",
    "        title='# of users',\n",
    "        titlefont=dict(\n",
    "            family='Courier New, monospace',\n",
    "            size=18,\n",
    "            color='#7f7f7f'\n",
    "        )\n",
    "    ),\n",
    "    yaxis=dict(\n",
    "        title='Avg. score',\n",
    "        titlefont=dict(\n",
    "            family='Courier New, monospace',\n",
    "            size=18,\n",
    "            color='#7f7f7f'\n",
    "        )\n",
    "    )\n",
    ")\n",
    "fig = go.Figure(data=data, layout=layout)\n",
    "plotl.iplot(fig, filename='numOfUsersByScoreRange')"
   ]
  },
  {
   "cell_type": "code",
   "execution_count": null,
   "metadata": {
    "collapsed": true
   },
   "outputs": [],
   "source": []
  }
 ],
 "metadata": {
  "anaconda-cloud": {},
  "kernelspec": {
   "display_name": "Python [default]",
   "language": "python",
   "name": "python2"
  },
  "language_info": {
   "codemirror_mode": {
    "name": "ipython",
    "version": 2
   },
   "file_extension": ".py",
   "mimetype": "text/x-python",
   "name": "python",
   "nbconvert_exporter": "python",
   "pygments_lexer": "ipython2",
   "version": "2.7.12"
  }
 },
 "nbformat": 4,
 "nbformat_minor": 1
}
